{
 "cells": [
  {
   "cell_type": "code",
   "execution_count": 4,
   "id": "f647a5e4",
   "metadata": {},
   "outputs": [],
   "source": [
    "# !wget  http://www.manythings.org/anki/fra-eng.zip\n",
    "# #!unzip -q fra-eng.zip -d /content/french-eng"
   ]
  },
  {
   "cell_type": "code",
   "execution_count": 21,
   "id": "be7a51c4",
   "metadata": {},
   "outputs": [],
   "source": [
    "#importing libraries \n",
    "from __future__ import print_function\n",
    "from tensorflow import keras \n",
    "from tensorflow.keras.models import Model\n",
    "from tensorflow.keras.layers import Input, LSTM, Dense\n",
    "import numpy as np"
   ]
  },
  {
   "cell_type": "code",
   "execution_count": 22,
   "id": "e35c7820",
   "metadata": {},
   "outputs": [
    {
     "name": "stdout",
     "output_type": "stream",
     "text": [
      "Requirement already satisfied: keras in c:\\python\\anaconda3\\envs\\tf11\\lib\\site-packages (2.8.0)\n",
      "Note: you may need to restart the kernel to use updated packages.\n"
     ]
    }
   ],
   "source": [
    "#pip install keras"
   ]
  },
  {
   "cell_type": "code",
   "execution_count": 11,
   "id": "b0325a90",
   "metadata": {},
   "outputs": [],
   "source": [
    "import tensorflow as tf"
   ]
  },
  {
   "cell_type": "code",
   "execution_count": 12,
   "id": "2ffe72c4",
   "metadata": {},
   "outputs": [
    {
     "data": {
      "text/plain": [
       "'1.14.0'"
      ]
     },
     "execution_count": 12,
     "metadata": {},
     "output_type": "execute_result"
    }
   ],
   "source": [
    "tf.__version__"
   ]
  },
  {
   "cell_type": "code",
   "execution_count": 13,
   "id": "85e36698",
   "metadata": {},
   "outputs": [
    {
     "data": {
      "text/plain": [
       "'2.2.4-tf'"
      ]
     },
     "execution_count": 13,
     "metadata": {},
     "output_type": "execute_result"
    }
   ],
   "source": [
    "keras.__version__"
   ]
  },
  {
   "cell_type": "code",
   "execution_count": 23,
   "id": "01845fe5",
   "metadata": {},
   "outputs": [],
   "source": [
    "batch_s = 64  # Batch size for training.\n",
    "epochs = 100  # Number of epochs to train for.\n",
    "latent_dimension = 256  # Latent dimensionality of the encoding space.\n",
    "number_samples = 10000  # Number of samples to train on.\n",
    "# Path to the data txt file on disk.\n",
    "data_path = 'fra.txt'"
   ]
  },
  {
   "cell_type": "code",
   "execution_count": 24,
   "id": "a21ef567",
   "metadata": {},
   "outputs": [],
   "source": [
    "# vectorize data\n",
    "input_texts = []\n",
    "target_texts = []\n",
    "\n",
    "# We have used set() here, which not allow duplicate item.\n",
    "input_characters = set()\n",
    "target_characters = set()"
   ]
  },
  {
   "cell_type": "code",
   "execution_count": 26,
   "id": "dd232ad2",
   "metadata": {},
   "outputs": [],
   "source": [
    "with open(data_path, 'r', encoding='utf-8') as f:\n",
    "    lines = f.read().split('\\n')\n",
    "for line in lines[: min(number_samples, len(lines)-1)]:\n",
    "    \n",
    "    input_text, target_text, _ = line.split('\\t') # tab for start of character and \\n for end of string\n",
    "    \n",
    "    target_text= '\\t' + target_text + '\\n'\n",
    "    input_texts.append(input_text)\n",
    "    target_texts.append(target_text)\n",
    "    \n",
    "    #for finding the unique characters\n",
    "    for char in input_text:\n",
    "        if char not in input_characters:\n",
    "            input_characters.add(char)\n",
    "    for char in target_text:\n",
    "        if char not in target_characters:\n",
    "            target_characters.add(char)\n",
    "            "
   ]
  },
  {
   "cell_type": "code",
   "execution_count": 71,
   "id": "270fa4ef",
   "metadata": {},
   "outputs": [],
   "source": [
    "input_characters= sorted(list(input_characters))\n",
    "\n",
    "target_characters= sorted(list(target_characters))\n",
    "\n",
    "num_encoder_tokens = len(input_characters)\n",
    "\n",
    "num_decoder_tokens = len(target_characters)\n",
    "\n",
    "#finding max length of input text for encoder\n",
    "max_encoder_seq_length = max([len(txt) for txt in input_texts])\n",
    "\n",
    "#finding max length of input text for decoder\n",
    "max_decoder_seq_length = max([len(txt) for txt in target_texts])\n"
   ]
  },
  {
   "cell_type": "code",
   "execution_count": 72,
   "id": "45963d75",
   "metadata": {},
   "outputs": [
    {
     "name": "stdout",
     "output_type": "stream",
     "text": [
      "Number of samples: 10000\n",
      "Number of unique input tokens: 70\n",
      "Number of unique output tokens: 93\n",
      "Max sequence length for inputs: 16\n",
      "Max sequence length for outputs: 59\n"
     ]
    }
   ],
   "source": [
    "print('Number of samples:', len(input_texts))\n",
    "print('Number of unique input tokens:', num_encoder_tokens)\n",
    "print('Number of unique output tokens:', num_decoder_tokens)\n",
    "print('Max sequence length for inputs:', max_encoder_seq_length)\n",
    "print('Max sequence length for outputs:', max_decoder_seq_length)"
   ]
  },
  {
   "cell_type": "code",
   "execution_count": 73,
   "id": "4816e998",
   "metadata": {},
   "outputs": [],
   "source": [
    "#create index for input and target charcaters\n",
    "\n",
    "input_token_index = dict([(char,index) for index, char in enumerate(input_characters)])\n",
    "\n",
    "target_token_index = dict([(char,index) for index, char in enumerate(target_characters)])\n"
   ]
  },
  {
   "cell_type": "code",
   "execution_count": 74,
   "id": "722dab9d",
   "metadata": {},
   "outputs": [
    {
     "data": {
      "text/plain": [
       "(10000, 16, 70)"
      ]
     },
     "execution_count": 74,
     "metadata": {},
     "output_type": "execute_result"
    }
   ],
   "source": [
    "encoder_input_data = np.zeros( (len(input_texts), max_encoder_seq_length, num_encoder_tokens) , dtype='float32')\n",
    "\n",
    "encoder_input_data.shape \n",
    "# one matrix of size 10000 rows 16 columns like that 70 matrix"
   ]
  },
  {
   "cell_type": "code",
   "execution_count": 75,
   "id": "23c20e77",
   "metadata": {},
   "outputs": [
    {
     "data": {
      "text/plain": [
       "(10000, 59, 93)"
      ]
     },
     "execution_count": 75,
     "metadata": {},
     "output_type": "execute_result"
    }
   ],
   "source": [
    "decoder_input_data = np.zeros( (len(input_texts), max_decoder_seq_length, num_decoder_tokens), dtype='float32')\n",
    "\n",
    "decoder_input_data.shape \n",
    "# one matrix of size 10000 rows 59 columns like that 93 matrix"
   ]
  },
  {
   "cell_type": "code",
   "execution_count": 76,
   "id": "a18d1c5a",
   "metadata": {},
   "outputs": [
    {
     "data": {
      "text/plain": [
       "(10000, 59, 93)"
      ]
     },
     "execution_count": 76,
     "metadata": {},
     "output_type": "execute_result"
    }
   ],
   "source": [
    "decoder_target_data = np.zeros( (len(input_texts), max_decoder_seq_length, num_decoder_tokens), dtype='float32')\n",
    "\n",
    "\n",
    "decoder_target_data.shape \n",
    "# one matrix of size 10000 rows 59 columns like that 93 matrix"
   ]
  },
  {
   "cell_type": "code",
   "execution_count": 77,
   "id": "66e34a1f",
   "metadata": {},
   "outputs": [],
   "source": [
    "for i , (input_text, target_text) in enumerate(zip(input_texts, target_texts)):\n",
    "    #print(i, (input_text, target_text))\n",
    "    \n",
    "    for t, char in enumerate(input_text):\n",
    "        encoder_input_data[i, t, input_token_index[char]] = 1\n",
    "    \n",
    "    encoder_input_data[i, t + 1:,input_token_index[' ']] = 1\n",
    "    \n",
    "    for t, char in enumerate(target_text):\n",
    "        #decoder_target_data is ahead of decoder_input_data by one timestep\n",
    "        \n",
    "        decoder_input_data[i, t, target_token_index[char]] = 1\n",
    "        \n",
    "        if t > 0:\n",
    "            #decoder target data will be ahead by one time step and will not include the start charaters\n",
    "            decoder_target_data[i, t-1 , target_token_index[char]] = 1\n",
    "            \n",
    "    decoder_input_data[i , t + 1: ,target_token_index[' ']] = 1\n",
    "    decoder_target_data[i, t: , target_token_index[' ']] = 1\n",
    "    \n",
    "        \n",
    "     "
   ]
  },
  {
   "cell_type": "code",
   "execution_count": 79,
   "id": "d5967137",
   "metadata": {},
   "outputs": [
    {
     "data": {
      "text/plain": [
       "(10000, 16, 70)"
      ]
     },
     "execution_count": 79,
     "metadata": {},
     "output_type": "execute_result"
    }
   ],
   "source": [
    "encoder_input_data.shape"
   ]
  },
  {
   "cell_type": "code",
   "execution_count": 83,
   "id": "6d8f0634",
   "metadata": {},
   "outputs": [],
   "source": [
    "# define an input sequence and process it\n",
    "\n",
    "encoder_inputs = Input(shape= (None , num_encoder_tokens))\n",
    "\n",
    "encoder = LSTM(latent_dimension, return_state=True)\n",
    "\n",
    "encoder_outputs, state_h, state_c = encoder(encoder_inputs)\n",
    "\n",
    "# We discarded 'encoder outputs' and only keep the states\n",
    "\n",
    "encoder_states = [state_h , state_c]"
   ]
  },
  {
   "cell_type": "code",
   "execution_count": 84,
   "id": "78e897d8",
   "metadata": {},
   "outputs": [],
   "source": [
    "#Define decoder, using encoder states as intial states \n",
    "\n",
    "decoder_inputs = Input(shape =(None, num_decoder_tokens))\n",
    "\n",
    "decoder_lstm = LSTM(latent_dimension , return_sequences= True, return_state= True)\n",
    "\n",
    "decoder_outputs, _, _ = decoder_lstm(decoder_inputs, initial_state= encoder_states)\n",
    "\n",
    "decoder_dense = Dense(num_decoder_tokens, activation= 'softmax')\n",
    "\n",
    "decoder_outputs = decoder_dense(decoder_outputs)\n"
   ]
  },
  {
   "cell_type": "code",
   "execution_count": 85,
   "id": "8e17caef",
   "metadata": {},
   "outputs": [],
   "source": [
    "# Define the model :- Encoder_input_data and decoder_output data into decoder_target_data\n",
    "\n",
    "model = Model([encoder_inputs, decoder_inputs], decoder_outputs)"
   ]
  },
  {
   "cell_type": "code",
   "execution_count": 86,
   "id": "bff603f0",
   "metadata": {},
   "outputs": [],
   "source": [
    "model.compile( optimizer='rmsprop', \n",
    "               loss='categorical_crossentropy', \n",
    "               metrics= ['accuracy'])"
   ]
  },
  {
   "cell_type": "code",
   "execution_count": null,
   "id": "ebb84817",
   "metadata": {},
   "outputs": [
    {
     "name": "stdout",
     "output_type": "stream",
     "text": [
      "Train on 8000 samples, validate on 2000 samples\n",
      "WARNING:tensorflow:From C:\\Users\\DELL\\AppData\\Roaming\\Python\\Python36\\site-packages\\tensorflow\\python\\ops\\math_grad.py:1250: add_dispatch_support.<locals>.wrapper (from tensorflow.python.ops.array_ops) is deprecated and will be removed in a future version.\n",
      "Instructions for updating:\n",
      "Use tf.where in 2.0, which has the same broadcast rule as np.where\n",
      "Epoch 1/100\n",
      "8000/8000 [==============================] - 60s 7ms/sample - loss: 1.1908 - acc: 0.7253 - val_loss: 1.0430 - val_acc: 0.7038\n",
      "Epoch 2/100\n",
      "8000/8000 [==============================] - 67s 8ms/sample - loss: 0.8475 - acc: 0.7710 - val_loss: 0.8569 - val_acc: 0.7591\n",
      "Epoch 3/100\n",
      "8000/8000 [==============================] - 76s 9ms/sample - loss: 0.6721 - acc: 0.8081 - val_loss: 0.7071 - val_acc: 0.7966\n",
      "Epoch 4/100\n",
      "8000/8000 [==============================] - 68s 9ms/sample - loss: 0.5897 - acc: 0.8283 - val_loss: 0.6536 - val_acc: 0.8075\n",
      "Epoch 5/100\n",
      "8000/8000 [==============================] - 70s 9ms/sample - loss: 0.5403 - acc: 0.8417 - val_loss: 0.6171 - val_acc: 0.8176\n",
      "Epoch 6/100\n",
      "8000/8000 [==============================] - 74s 9ms/sample - loss: 0.5040 - acc: 0.8514 - val_loss: 0.5772 - val_acc: 0.8281\n",
      "Epoch 7/100\n",
      "8000/8000 [==============================] - 88s 11ms/sample - loss: 0.4752 - acc: 0.8592 - val_loss: 0.5530 - val_acc: 0.8360\n",
      "Epoch 8/100\n",
      "8000/8000 [==============================] - 79s 10ms/sample - loss: 0.4509 - acc: 0.8660 - val_loss: 0.5367 - val_acc: 0.8396\n",
      "Epoch 9/100\n",
      "8000/8000 [==============================] - 79s 10ms/sample - loss: 0.4298 - acc: 0.8716 - val_loss: 0.5180 - val_acc: 0.8466\n",
      "Epoch 10/100\n",
      "8000/8000 [==============================] - 82s 10ms/sample - loss: 0.4102 - acc: 0.8774 - val_loss: 0.5016 - val_acc: 0.8515\n",
      "Epoch 11/100\n",
      "8000/8000 [==============================] - 82s 10ms/sample - loss: 0.3927 - acc: 0.8827 - val_loss: 0.4857 - val_acc: 0.8559\n",
      "Epoch 12/100\n",
      "8000/8000 [==============================] - 82s 10ms/sample - loss: 0.3772 - acc: 0.8871 - val_loss: 0.4791 - val_acc: 0.8578\n",
      "Epoch 13/100\n",
      "8000/8000 [==============================] - 82s 10ms/sample - loss: 0.3624 - acc: 0.8914 - val_loss: 0.4771 - val_acc: 0.8587\n",
      "Epoch 14/100\n",
      "8000/8000 [==============================] - 82s 10ms/sample - loss: 0.3484 - acc: 0.8954 - val_loss: 0.4669 - val_acc: 0.8617\n",
      "Epoch 15/100\n",
      "8000/8000 [==============================] - 88s 11ms/sample - loss: 0.3356 - acc: 0.8992 - val_loss: 0.4544 - val_acc: 0.8665\n",
      "Epoch 16/100\n",
      "8000/8000 [==============================] - 83s 10ms/sample - loss: 0.3230 - acc: 0.9028 - val_loss: 0.4523 - val_acc: 0.8666\n",
      "Epoch 17/100\n",
      "8000/8000 [==============================] - 96s 12ms/sample - loss: 0.3116 - acc: 0.9060 - val_loss: 0.4528 - val_acc: 0.8672\n",
      "Epoch 18/100\n",
      "3584/8000 [============>.................] - ETA: 47s - loss: 0.2966 - acc: 0.9106"
     ]
    }
   ],
   "source": [
    "model.fit([encoder_input_data, decoder_input_data], decoder_target_data,\n",
    "           batch_size = batch_s,\n",
    "           epochs = epochs,\n",
    "           validation_split =0.2 )"
   ]
  },
  {
   "cell_type": "code",
   "execution_count": null,
   "id": "7887f013",
   "metadata": {},
   "outputs": [],
   "source": []
  },
  {
   "cell_type": "code",
   "execution_count": null,
   "id": "80f4ab6a",
   "metadata": {},
   "outputs": [],
   "source": []
  },
  {
   "cell_type": "code",
   "execution_count": null,
   "id": "2b34bf64",
   "metadata": {},
   "outputs": [],
   "source": []
  },
  {
   "cell_type": "code",
   "execution_count": null,
   "id": "a7afac3a",
   "metadata": {},
   "outputs": [],
   "source": []
  }
 ],
 "metadata": {
  "kernelspec": {
   "display_name": "Python 3 (ipykernel)",
   "language": "python",
   "name": "python3"
  },
  "language_info": {
   "codemirror_mode": {
    "name": "ipython",
    "version": 3
   },
   "file_extension": ".py",
   "mimetype": "text/x-python",
   "name": "python",
   "nbconvert_exporter": "python",
   "pygments_lexer": "ipython3",
   "version": "3.6.9"
  }
 },
 "nbformat": 4,
 "nbformat_minor": 5
}
